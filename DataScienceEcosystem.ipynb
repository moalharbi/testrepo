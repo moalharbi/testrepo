{
 "cells": [
  {
   "cell_type": "markdown",
   "id": "27495544",
   "metadata": {},
   "source": [
    "# Data Science Tools and Ecosystem"
   ]
  },
  {
   "cell_type": "markdown",
   "id": "e88b68cd",
   "metadata": {},
   "source": [
    "In this notebook, Data Science Tools and Ecosystem are summarized."
   ]
  },
  {
   "cell_type": "markdown",
   "id": "1b32c386",
   "metadata": {},
   "source": [
    "###### ***Objectives :***\n",
    "* Python\n",
    "* Scala\n",
    "* Java\n",
    "* R\n",
    "* SAS"
   ]
  },
  {
   "cell_type": "markdown",
   "id": "99ddd085",
   "metadata": {},
   "source": [
    "Some of the popular languages that Data Scientists use are:"
   ]
  },
  {
   "cell_type": "markdown",
   "id": "80e9197c",
   "metadata": {},
   "source": [
    "1. Python\n",
    "2. SQL\n",
    "3. R\n",
    "4. VBA (Visual Basic for Applications)\n",
    "5. Julia"
   ]
  },
  {
   "cell_type": "markdown",
   "id": "72b4d2a6",
   "metadata": {},
   "source": [
    "Some of the commonly used libraries used by Data Scientists include:\n",
    "* Scikit-learn\n",
    "* Seaborn\n",
    "* SciPy\n",
    "* TensorFlow\n",
    "* Statsmodels"
   ]
  },
  {
   "cell_type": "markdown",
   "id": "0843e843",
   "metadata": {},
   "source": [
    "| Data Science Tools |\n",
    "---\n",
    "| Apache Spark |\n",
    "| Julia |\n",
    "| Jupyter Notebook |\n"
   ]
  },
  {
   "cell_type": "markdown",
   "id": "3b94ec11",
   "metadata": {},
   "source": [
    "### Below are a few examples of evaluating arithmetic expressions in Python"
   ]
  },
  {
   "cell_type": "code",
   "execution_count": 1,
   "id": "528d540f",
   "metadata": {},
   "outputs": [
    {
     "data": {
      "text/plain": [
       "17"
      ]
     },
     "execution_count": 1,
     "metadata": {},
     "output_type": "execute_result"
    }
   ],
   "source": [
    "# his a simple arithmetic expression to mutiply then add integers\n",
    "(3*4)+5"
   ]
  },
  {
   "cell_type": "code",
   "execution_count": 3,
   "id": "5b20f9cb",
   "metadata": {},
   "outputs": [
    {
     "data": {
      "text/plain": [
       "3.3333333333333335"
      ]
     },
     "execution_count": 3,
     "metadata": {},
     "output_type": "execute_result"
    }
   ],
   "source": [
    "# This will convert 200 minutes to hours by diving by 60\n",
    "200 / 60"
   ]
  },
  {
   "cell_type": "markdown",
   "id": "4dc822e0",
   "metadata": {},
   "source": [
    "## Author \n",
    "Mohammed"
   ]
  },
  {
   "cell_type": "code",
   "execution_count": null,
   "id": "65d92a92",
   "metadata": {},
   "outputs": [],
   "source": []
  }
 ],
 "metadata": {
  "kernelspec": {
   "display_name": "Python 3 (ipykernel)",
   "language": "python",
   "name": "python3"
  },
  "language_info": {
   "codemirror_mode": {
    "name": "ipython",
    "version": 3
   },
   "file_extension": ".py",
   "mimetype": "text/x-python",
   "name": "python",
   "nbconvert_exporter": "python",
   "pygments_lexer": "ipython3",
   "version": "3.10.9"
  }
 },
 "nbformat": 4,
 "nbformat_minor": 5
}
